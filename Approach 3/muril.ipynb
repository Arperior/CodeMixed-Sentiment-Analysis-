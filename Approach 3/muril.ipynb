{
 "cells": [
  {
   "cell_type": "code",
   "execution_count": 2,
   "metadata": {},
   "outputs": [],
   "source": [
    "import pandas as pd\n",
    "import numpy as np\n",
    "from sklearn.model_selection import train_test_split,ParameterGrid,cross_val_score\n",
    "import matplotlib.pyplot as plt\n",
    "from sklearn.metrics import ConfusionMatrixDisplay,classification_report\n",
    "import re\n",
    "from nltk.tokenize import word_tokenize\n",
    "from nltk.stem import WordNetLemmatizer\n",
    "from tqdm import tqdm\n",
    "from sklearn.feature_extraction.text import TfidfVectorizer\n",
    "from sklearn.svm import LinearSVC\n",
    "from gensim.models import Word2Vec\n",
    "from sklearn.preprocessing import normalize\n",
    "from sklearn.linear_model import LogisticRegression\n",
    "import torch\n",
    "from transformers import AutoTokenizer, AutoModel"
   ]
  },
  {
   "cell_type": "code",
   "execution_count": 3,
   "metadata": {},
   "outputs": [],
   "source": [
    "lemmatizer = WordNetLemmatizer()\n",
    "\n",
    "# Cleanup + Tokenization + Lemmatization \n",
    "def clean_text(text):\n",
    "    text = re.sub(r'[^a-zA-Z\\s]', '', text).lower().strip()\n",
    "    tokens = word_tokenize(text)\n",
    "    tokens = [lemmatizer.lemmatize(word) for word in tokens]\n",
    "    return ' '.join(tokens)\n",
    "\n",
    "df = pd.read_csv('D:\\\\GDG_Hammad_ML\\\\dataset\\\\train.csv')\n",
    "df['comment'] = df['comment'].apply(clean_text)\n",
    "X = df['comment']\n",
    "y = df['label']"
   ]
  },
  {
   "cell_type": "code",
   "execution_count": 4,
   "metadata": {},
   "outputs": [],
   "source": [
    "class GridSearchCVWithProgress:\n",
    "    def __init__(self, estimator, param_grid,X,y, scoring=None, cv=5, n_jobs=None):\n",
    "        self.estimator = estimator\n",
    "        self.param_grid = param_grid\n",
    "        self.cv = cv\n",
    "        self.scoring = scoring\n",
    "        self.n_jobs = n_jobs\n",
    "        self.best_params_ = None\n",
    "        self.best_score_ = -np.inf\n",
    "        self.X = X\n",
    "        self.y = y\n",
    "\n",
    "    def fit(self):\n",
    "        param_combinations = list(ParameterGrid(self.param_grid))\n",
    "        \n",
    "        # Initializing the progress bar\n",
    "        with tqdm(total=len(param_combinations), desc=\"Grid Search Progress\", unit=\"combination\") as pbar:\n",
    "            for params in param_combinations:\n",
    "                self.estimator.set_params(**params)\n",
    "                \n",
    "                scores = cross_val_score(self.estimator, self.X, self.y, cv=self.cv, scoring=self.scoring, n_jobs=self.n_jobs)\n",
    "                mean_score = np.mean(scores)\n",
    "                \n",
    "                # Save the vbest\n",
    "                if mean_score > self.best_score_:\n",
    "                    self.best_score_ = mean_score\n",
    "                    self.best_params_ = params\n",
    "                \n",
    "                # INC pbar\n",
    "                pbar.update(1)\n",
    "        \n",
    "        return self\n",
    "    \n",
    "    def predict(self,X_test):\n",
    "        self.estimator.set_params(**self.best_params_)\n",
    "        self.estimator.fit(self.X,self.y)\n",
    "        y_pred = self.estimator.predict(X_test)\n",
    "        return y_pred"
   ]
  },
  {
   "cell_type": "code",
   "execution_count": 5,
   "metadata": {},
   "outputs": [],
   "source": [
    "X_train,X_test,y_train,y_test = train_test_split(X,y,test_size=0.3,random_state=420) \n",
    "\n",
    "tfidf = TfidfVectorizer(max_features=30000,ngram_range=(1,2),norm='l2')\n",
    "tfidf.fit(X_train)\n",
    "X_train_tf = tfidf.transform(X_train)\n",
    "X_test_tf = tfidf.transform(X_test)"
   ]
  },
  {
   "cell_type": "code",
   "execution_count": null,
   "metadata": {},
   "outputs": [],
   "source": [
    "import torch\n",
    "\n",
    "device = torch.device(\"cuda\" if torch.cuda.is_available() else \"cpu\")\n",
    "tokenizer = AutoTokenizer.from_pretrained(\"google/muril-base-cased\")\n",
    "model = AutoModel.from_pretrained(\"google/muril-base-cased\").to(device)\n",
    "\n",
    "def get_mean_embedding(text, tokenizer, model):\n",
    "    inputs = tokenizer(text, return_tensors=\"pt\", truncation=True, padding=True, max_length=128).to(device)\n",
    "    with torch.no_grad():\n",
    "        outputs = model(**inputs)\n",
    "    embedding = outputs.last_hidden_state.mean(dim=1).squeeze()\n",
    "    return embedding.cpu().numpy()  \n"
   ]
  },
  {
   "cell_type": "code",
   "execution_count": 8,
   "metadata": {},
   "outputs": [
    {
     "name": "stderr",
     "output_type": "stream",
     "text": [
      "d:\\Anaconda\\envs\\doodlegen\\Lib\\site-packages\\transformers\\models\\bert\\modeling_bert.py:435: UserWarning: 1Torch was not compiled with flash attention. (Triggered internally at C:\\cb\\pytorch_1000000000000\\work\\aten\\src\\ATen\\native\\transformers\\cuda\\sdp_utils.cpp:555.)\n",
      "  attn_output = torch.nn.functional.scaled_dot_product_attention(\n"
     ]
    }
   ],
   "source": [
    "# Generate mean-pooled MuRIL embeddings for the training set\n",
    "X_train_vect = np.array([get_mean_embedding(doc, tokenizer, model) for doc in X_train])\n",
    "X_train_vect = normalize(X_train_vect, axis=1)\n",
    "\n",
    "# Generate mean-pooled MuRIL embeddings for the test set\n",
    "X_test_vect = np.array([get_mean_embedding(doc, tokenizer, model) for doc in X_test])\n",
    "X_test_vect = normalize(X_test_vect, axis=1)\n"
   ]
  },
  {
   "cell_type": "code",
   "execution_count": 9,
   "metadata": {},
   "outputs": [],
   "source": [
    "import scipy.sparse as sp\n",
    "\n",
    "X_combined_train = sp.hstack([X_train_tf, sp.csr_matrix(X_train_vect)])\n",
    "X_combined_test = sp.hstack([X_test_tf, sp.csr_matrix(X_test_vect)])"
   ]
  },
  {
   "cell_type": "code",
   "execution_count": 11,
   "metadata": {},
   "outputs": [],
   "source": [
    "model = LinearSVC()\n",
    "\n",
    "#'C': [0.001, 0.01,0.05, 0.1, 1, 10,],  \n",
    "#'tol' : [1e-4,1e-3]  \n",
    "\n",
    "param_grid = {\n",
    "    'C': [0.15,0.05, 0.1,0.5, 1,],   \n",
    "    'max_iter': [1000, 5000,10000,2500],\n",
    "    'tol' : [1e-4]  \n",
    "}"
   ]
  },
  {
   "cell_type": "code",
   "execution_count": null,
   "metadata": {},
   "outputs": [],
   "source": [
    "grid_search = GridSearchCVWithProgress(estimator=model, \n",
    "                           param_grid=param_grid, \n",
    "                           scoring='f1_macro', \n",
    "                           cv=5,\n",
    "                           X = X_combined_train,\n",
    "                           y = y_train,            \n",
    "                           n_jobs=5,       \n",
    "                           )  \n",
    "\n",
    "grid_search.fit()\n",
    "\n",
    "print(\"Best parameters found: \", grid_search.best_params_)"
   ]
  },
  {
   "cell_type": "code",
   "execution_count": 23,
   "metadata": {},
   "outputs": [
    {
     "name": "stdout",
     "output_type": "stream",
     "text": [
      "              precision    recall  f1-score   support\n",
      "\n",
      "       doubt       0.73      0.71      0.72     16575\n",
      "    feedback       0.71      0.76      0.73     28692\n",
      "  irrelevant       0.70      0.63      0.67     18858\n",
      "\n",
      "    accuracy                           0.71     64125\n",
      "   macro avg       0.71      0.70      0.71     64125\n",
      "weighted avg       0.71      0.71      0.71     64125\n",
      "\n"
     ]
    },
    {
     "data": {
      "image/png": "[encoded data removed]",
      "text/plain": [
       "<Figure size 640x480 with 2 Axes>"
      ]
     },
     "metadata": {},
     "output_type": "display_data"
    }
   ],
   "source": [
    "best_model = LinearSVC(C=0.1,tol=0.0001)\n",
    "\n",
    "def report(model):\n",
    "    model.fit(X_combined_train,y_train)\n",
    "    preds = model.predict(X_combined_test)\n",
    "    print(classification_report(y_test,preds))\n",
    "    ConfusionMatrixDisplay.from_predictions(y_test,preds)\n",
    "    plt.show()\n",
    "\n",
    "\n",
    "report(best_model)"
   ]
  },
  {
   "cell_type": "code",
   "execution_count": 18,
   "metadata": {},
   "outputs": [],
   "source": [
    "df2 = pd.read_csv('D:\\\\GDG_Hammad_ML\\\\dataset\\\\test.csv')\n",
    "\n",
    "df2['comment'] = df2['comment'].apply(clean_text)\n",
    "X = df2['comment']\n",
    "\n",
    "X_tfidf = tfidf.transform(X)\n",
    "\n",
    "X_vect = np.array([get_mean_embedding(doc, tokenizer, model) for doc in X])\n",
    "X_vect = normalize(X_vect, axis=1)\n",
    "\n",
    "X_combined = sp.hstack([X_tfidf, X_vect])\n",
    "\n",
    "preds = best_model.predict(X_combined)\n",
    "\n",
    "# Create a solution DataFrame\n",
    "sol = pd.DataFrame({'ID': df2['id'], 'Label': preds})"
   ]
  },
  {
   "cell_type": "code",
   "execution_count": 19,
   "metadata": {},
   "outputs": [],
   "source": [
    "sol.to_csv('solutionMuRIL.csv',index=False)"
   ]
  }
 ],
 "metadata": {
  "kernelspec": {
   "display_name": "doodlegen",
   "language": "python",
   "name": "python3"
  },
  "language_info": {
   "codemirror_mode": {
    "name": "ipython",
    "version": 3
   },
   "file_extension": ".py",
   "mimetype": "text/x-python",
   "name": "python",
   "nbconvert_exporter": "python",
   "pygments_lexer": "ipython3",
   "version": "3.12.4"
  }
 },
 "nbformat": 4,
 "nbformat_minor": 2
}
