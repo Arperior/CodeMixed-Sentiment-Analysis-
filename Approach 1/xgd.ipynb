{
 "cells": [
  {
   "cell_type": "code",
   "execution_count": 1,
   "metadata": {},
   "outputs": [],
   "source": [
    "import numpy as np\n",
    "import pandas as pd\n",
    "from sklearn.model_selection import train_test_split, GridSearchCV\n",
    "from sklearn.metrics import classification_report, ConfusionMatrixDisplay,accuracy_score\n",
    "from xgboost import XGBClassifier\n",
    "from sklearn.preprocessing import LabelEncoder\n",
    "from sklearn.feature_extraction.text import TfidfVectorizer\n",
    "import nltk\n",
    "from nltk.corpus import stopwords\n",
    "from nltk.tokenize import word_tokenize\n",
    "import matplotlib.pyplot as plt\n",
    "from tqdm import tqdm\n",
    "from sklearn.model_selection import ParameterGrid"
   ]
  },
  {
   "cell_type": "code",
   "execution_count": null,
   "metadata": {},
   "outputs": [],
   "source": [
    "df1 = pd.read_csv('dataset/train.csv')\n",
    "\n",
    "\n",
    "def preprocess_text(text):\n",
    "    #stop_words = set(stopwords.words('english'))\n",
    "    tokens = word_tokenize(text.lower())\n",
    "    filtered_words = [word for word in tokens if word.isalpha() ] #and word not in stop_words\n",
    "    return ' '.join(filtered_words)\n",
    "\n",
    "df = df1.sample(n=200000)\n",
    "df['processed_text'] = df['comment'].apply(preprocess_text)\n",
    "\n",
    "X = df['processed_text']\n",
    "y = df['label']\n",
    "\n",
    "label_encoder = LabelEncoder()\n",
    "y_encoded = label_encoder.fit_transform(y)"
   ]
  },
  {
   "cell_type": "code",
   "execution_count": 3,
   "metadata": {},
   "outputs": [
    {
     "data": {
      "text/html": [
       "<div>\n",
       "<style scoped>\n",
       "    .dataframe tbody tr th:only-of-type {\n",
       "        vertical-align: middle;\n",
       "    }\n",
       "\n",
       "    .dataframe tbody tr th {\n",
       "        vertical-align: top;\n",
       "    }\n",
       "\n",
       "    .dataframe thead th {\n",
       "        text-align: right;\n",
       "    }\n",
       "</style>\n",
       "<table border=\"1\" class=\"dataframe\">\n",
       "  <thead>\n",
       "    <tr style=\"text-align: right;\">\n",
       "      <th></th>\n",
       "      <th>comment</th>\n",
       "      <th>label</th>\n",
       "      <th>processed_text</th>\n",
       "    </tr>\n",
       "  </thead>\n",
       "  <tbody>\n",
       "    <tr>\n",
       "      <th>129393</th>\n",
       "      <td>best ending ever suspense suspense and suspens...</td>\n",
       "      <td>irrelevant</td>\n",
       "      <td>best ending ever suspense suspense suspense st...</td>\n",
       "    </tr>\n",
       "    <tr>\n",
       "      <th>125080</th>\n",
       "      <td>i read in irodov but you are much more better ...</td>\n",
       "      <td>feedback</td>\n",
       "      <td>read irodov much better thise teaching process...</td>\n",
       "    </tr>\n",
       "    <tr>\n",
       "      <th>49192</th>\n",
       "      <td>this was the most hardest topic for me in fric...</td>\n",
       "      <td>feedback</td>\n",
       "      <td>hardest topic friction easiest one tq much sir</td>\n",
       "    </tr>\n",
       "    <tr>\n",
       "      <th>24754</th>\n",
       "      <td>neet ke liye itna differentiation aata</td>\n",
       "      <td>doubt</td>\n",
       "      <td>neet ke liye itna differentiation aata</td>\n",
       "    </tr>\n",
       "    <tr>\n",
       "      <th>38241</th>\n",
       "      <td>studying from alakh pandey is very helpfulhe m...</td>\n",
       "      <td>feedback</td>\n",
       "      <td>studying alakh pandey helpfulhe made jee neet ...</td>\n",
       "    </tr>\n",
       "    <tr>\n",
       "      <th>...</th>\n",
       "      <td>...</td>\n",
       "      <td>...</td>\n",
       "      <td>...</td>\n",
       "    </tr>\n",
       "    <tr>\n",
       "      <th>151221</th>\n",
       "      <td>peet do sir hamain aap jaise legend ki maar kh...</td>\n",
       "      <td>irrelevant</td>\n",
       "      <td>peet sir hamain aap jaise legend ki maar khane...</td>\n",
       "    </tr>\n",
       "    <tr>\n",
       "      <th>168726</th>\n",
       "      <td>dont be sorry for poor quality because this mo...</td>\n",
       "      <td>feedback</td>\n",
       "      <td>dont sorry poor quality motivates</td>\n",
       "    </tr>\n",
       "    <tr>\n",
       "      <th>50284</th>\n",
       "      <td>plzzz solve your assignment sir jiii ch   physics</td>\n",
       "      <td>doubt</td>\n",
       "      <td>plzzz solve assignment sir jiii ch physics</td>\n",
       "    </tr>\n",
       "    <tr>\n",
       "      <th>154452</th>\n",
       "      <td>after  years  youtube recommended this video  ...</td>\n",
       "      <td>irrelevant</td>\n",
       "      <td>years youtube recommended video engineering co...</td>\n",
       "    </tr>\n",
       "    <tr>\n",
       "      <th>145444</th>\n",
       "      <td>at  is  possible value of cos theta</td>\n",
       "      <td>doubt</td>\n",
       "      <td>possible value cos theta</td>\n",
       "    </tr>\n",
       "  </tbody>\n",
       "</table>\n",
       "<p>50000 rows × 3 columns</p>\n",
       "</div>"
      ],
      "text/plain": [
       "                                                  comment  ...                                     processed_text\n",
       "129393  best ending ever suspense suspense and suspens...  ...  best ending ever suspense suspense suspense st...\n",
       "125080  i read in irodov but you are much more better ...  ...  read irodov much better thise teaching process...\n",
       "49192   this was the most hardest topic for me in fric...  ...     hardest topic friction easiest one tq much sir\n",
       "24754              neet ke liye itna differentiation aata  ...             neet ke liye itna differentiation aata\n",
       "38241   studying from alakh pandey is very helpfulhe m...  ...  studying alakh pandey helpfulhe made jee neet ...\n",
       "...                                                   ...  ...                                                ...\n",
       "151221  peet do sir hamain aap jaise legend ki maar kh...  ...  peet sir hamain aap jaise legend ki maar khane...\n",
       "168726  dont be sorry for poor quality because this mo...  ...                  dont sorry poor quality motivates\n",
       "50284   plzzz solve your assignment sir jiii ch   physics  ...         plzzz solve assignment sir jiii ch physics\n",
       "154452  after  years  youtube recommended this video  ...  ...  years youtube recommended video engineering co...\n",
       "145444                at  is  possible value of cos theta  ...                           possible value cos theta\n",
       "\n",
       "[50000 rows x 3 columns]"
      ]
     },
     "execution_count": 3,
     "metadata": {},
     "output_type": "execute_result"
    }
   ],
   "source": [
    "df"
   ]
  },
  {
   "cell_type": "code",
   "execution_count": null,
   "metadata": {},
   "outputs": [],
   "source": [
    "X_train, X_test, y_train, y_test = train_test_split(X, y_encoded, test_size=0.3, random_state=42)\n",
    "\n",
    "# TF-IDF Vectorization\n",
    "tfidf = TfidfVectorizer()\n",
    "X_train_tfidf = tfidf.fit_transform(X_train)\n",
    "X_test_tfidf = tfidf.transform(X_test)\n",
    "\n",
    "# Define the XGBoost classifier (with no GPU parameters)\n",
    "model = XGBClassifier(tree_method='hist', objective='multi:softmax')\n",
    "\n",
    "param_grid = {\n",
    "    'n_estimators': [100, 200], #300\n",
    "    'max_depth': [3, 5, 7],\n",
    "    'learning_rate': [0.01, 0.1, 0.2],\n",
    "    'subsample': [0.8, 1.0],\n",
    "    'colsample_bytree': [0.8, 1.0],\n",
    "    'gamma': [0, 0.1],  #0.2\n",
    "}"
   ]
  },
  {
   "cell_type": "code",
   "execution_count": null,
   "metadata": {},
   "outputs": [
    {
     "name": "stderr",
     "output_type": "stream",
     "text": [
      "Grid Search Progress: 100%|██████████| 144/144 [1:13:17<00:00, 30.54s/combination]\n"
     ]
    },
    {
     "data": {
      "text/plain": [
       "<__main__.GridSearchCVWithProgress at 0x17887d240b0>"
      ]
     },
     "execution_count": 14,
     "metadata": {},
     "output_type": "execute_result"
    }
   ],
   "source": [
    "from sklearn.model_selection import cross_val_score\n",
    "\n",
    "grid = list(ParameterGrid(param_grid))\n",
    "\n",
    "class GridSearchCVWithProgress:\n",
    "    def __init__(self, estimator, param_grid, scoring=None, cv=5, n_jobs=None):\n",
    "        self.estimator = estimator\n",
    "        self.param_grid = param_grid\n",
    "        self.cv = cv\n",
    "        self.scoring = scoring\n",
    "        self.n_jobs = n_jobs\n",
    "        self.best_params_ = None\n",
    "        self.best_score_ = -np.inf\n",
    "\n",
    "    def fit(self, X, y):\n",
    "        # Create the parameter grid\n",
    "        param_combinations = list(ParameterGrid(self.param_grid))\n",
    "        \n",
    "        # Initialize progress bar\n",
    "        with tqdm(total=len(param_combinations), desc=\"Grid Search Progress\", unit=\"combination\") as pbar:\n",
    "            for params in param_combinations:\n",
    "                self.estimator.set_params(**params)\n",
    "                \n",
    "                scores = cross_val_score(self.estimator, X, y, cv=self.cv, scoring=self.scoring, n_jobs=self.n_jobs)\n",
    "                mean_score = np.mean(scores)\n",
    "                \n",
    "                if mean_score > self.best_score_:\n",
    "                    self.best_score_ = mean_score\n",
    "                    self.best_params_ = params\n",
    "                \n",
    "                # Update progress bar\n",
    "                pbar.update(1)\n",
    "        \n",
    "        return self\n",
    "\n",
    "grid_search = GridSearchCVWithProgress(estimator=model, \n",
    "                           param_grid=param_grid, \n",
    "                           scoring='f1_macro', \n",
    "                           cv=5,            # 5-fold cross-validation\n",
    "                           n_jobs=10,       # Use 10 parallel jobs\n",
    "                           )  \n",
    "\n",
    "grid_search.fit(X_train_tfidf, y_train)"
   ]
  },
  {
   "cell_type": "code",
   "execution_count": 21,
   "metadata": {},
   "outputs": [
    {
     "name": "stdout",
     "output_type": "stream",
     "text": [
      "Best parameters found:  {'colsample_bytree': 1.0, 'gamma': 0, 'learning_rate': 0.2, 'max_depth': 7, 'n_estimators': 200, 'subsample': 0.8}\n",
      "              precision    recall  f1-score   support\n",
      "\n",
      "       doubt       0.73      0.61      0.66     15476\n",
      "    feedback       0.68      0.75      0.71     26811\n",
      "  irrelevant       0.64      0.63      0.63     17713\n",
      "\n",
      "    accuracy                           0.68     60000\n",
      "   macro avg       0.68      0.66      0.67     60000\n",
      "weighted avg       0.68      0.68      0.68     60000\n",
      "\n"
     ]
    },
    {
     "data": {
      "image/png": "[encoded data removed]",
      "text/plain": [
       "<Figure size 640x480 with 2 Axes>"
      ]
     },
     "metadata": {},
     "output_type": "display_data"
    }
   ],
   "source": [
    "print(\"Best parameters found: \", grid_search.best_params_)\n",
    "best_params = grid_search.best_params_\n",
    "\n",
    "# Evaluate the best model\n",
    "best_model = XGBClassifier(colsample_bytree = 1.0, gamma = 0, learning_rate = 0.2, max_depth = 7, n_estimators = 200,subsample = 0.8)\n",
    "best_model.fit(X_train_tfidf, y_train)\n",
    "preds = best_model.predict(X_test_tfidf)\n",
    "\n",
    "# Display results\n",
    "print(classification_report(y_test, preds, target_names=label_encoder.classes_))\n",
    "ConfusionMatrixDisplay.from_predictions(y_test, preds)\n",
    "plt.show()"
   ]
  }
 ],
 "metadata": {
  "kernelspec": {
   "display_name": "doodlegen",
   "language": "python",
   "name": "python3"
  },
  "language_info": {
   "codemirror_mode": {
    "name": "ipython",
    "version": 3
   },
   "file_extension": ".py",
   "mimetype": "text/x-python",
   "name": "python",
   "nbconvert_exporter": "python",
   "pygments_lexer": "ipython3",
   "version": "3.12.4"
  }
 },
 "nbformat": 4,
 "nbformat_minor": 2
}
