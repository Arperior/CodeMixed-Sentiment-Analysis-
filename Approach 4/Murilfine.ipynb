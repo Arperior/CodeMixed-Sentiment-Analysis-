{
 "cells": [
  {
   "cell_type": "code",
   "execution_count": 1,
   "metadata": {},
   "outputs": [],
   "source": [
    "import pandas as pd\n",
    "import re\n",
    "from nltk.tokenize import word_tokenize\n",
    "from nltk.stem import WordNetLemmatizer\n",
    "from sklearn.preprocessing import LabelEncoder\n",
    "from transformers import TrainingArguments, Trainer, AutoTokenizer, AutoModelForSequenceClassification\n",
    "from datasets import Dataset"
   ]
  },
  {
   "cell_type": "code",
   "execution_count": 2,
   "metadata": {},
   "outputs": [],
   "source": [
    "lemmatizer = WordNetLemmatizer()\n",
    "\n",
    "def clean_text(text):\n",
    "    text = re.sub(r'[^a-zA-Z\\s]', '', text).lower().strip()\n",
    "    tokens = word_tokenize(text)\n",
    "    tokens = [lemmatizer.lemmatize(word) for word in tokens]\n",
    "    return ' '.join(tokens)\n",
    "\n",
    "df = pd.read_csv('D:\\\\GDG_Hammad_ML\\\\dataset\\\\train.csv')\n",
    "df['comment'] = df['comment'].apply(clean_text)\n",
    "\n",
    "label_encoder = LabelEncoder()\n",
    "df['label'] = label_encoder.fit_transform(df['label'])"
   ]
  },
  {
   "cell_type": "code",
   "execution_count": 3,
   "metadata": {},
   "outputs": [
    {
     "name": "stderr",
     "output_type": "stream",
     "text": [
      "Some weights of BertForSequenceClassification were not initialized from the model checkpoint at google/muril-base-cased and are newly initialized: ['classifier.bias', 'classifier.weight']\n",
      "You should probably TRAIN this model on a down-stream task to be able to use it for predictions and inference.\n"
     ]
    },
    {
     "data": {
      "application/vnd.jupyter.widget-view+json": {
       "model_id": "fcc79d0d020548769542e09f1b78f42e",
       "version_major": 2,
       "version_minor": 0
      },
      "text/plain": [
       "Map:   0%|          | 0/213747 [00:00<?, ? examples/s]"
      ]
     },
     "metadata": {},
     "output_type": "display_data"
    }
   ],
   "source": [
    "hf_dataset = Dataset.from_pandas(df)\n",
    "\n",
    "model_name = \"google/muril-base-cased\"\n",
    "tokenizer = AutoTokenizer.from_pretrained(model_name)\n",
    "model = AutoModelForSequenceClassification.from_pretrained(model_name, num_labels=len(df['label'].unique()))\n",
    "\n",
    "def tokenize(batch):\n",
    "    return tokenizer(batch['comment'], padding=True, truncation=True, max_length=128)\n",
    "\n",
    "hf_dataset = hf_dataset.map(tokenize, batched=True)\n",
    "\n",
    "hf_dataset.set_format(type=\"torch\", columns=[\"input_ids\", \"attention_mask\", \"label\"])"
   ]
  },
  {
   "cell_type": "code",
   "execution_count": 4,
   "metadata": {},
   "outputs": [
    {
     "name": "stderr",
     "output_type": "stream",
     "text": [
      "d:\\Anaconda\\envs\\doodlegen\\Lib\\site-packages\\accelerate\\accelerator.py:494: FutureWarning: `torch.cuda.amp.GradScaler(args...)` is deprecated. Please use `torch.amp.GradScaler('cuda', args...)` instead.\n",
      "  self.scaler = torch.cuda.amp.GradScaler(**kwargs)\n"
     ]
    },
    {
     "data": {
      "application/vnd.jupyter.widget-view+json": {
       "model_id": "4b56a99170bd4625994e27e70a5699a2",
       "version_major": 2,
       "version_minor": 0
      },
      "text/plain": [
       "  0%|          | 0/18703 [00:00<?, ?it/s]"
      ]
     },
     "metadata": {},
     "output_type": "display_data"
    },
    {
     "name": "stderr",
     "output_type": "stream",
     "text": [
      "d:\\Anaconda\\envs\\doodlegen\\Lib\\site-packages\\transformers\\models\\bert\\modeling_bert.py:435: UserWarning: 1Torch was not compiled with flash attention. (Triggered internally at C:\\cb\\pytorch_1000000000000\\work\\aten\\src\\ATen\\native\\transformers\\cuda\\sdp_utils.cpp:555.)\n",
      "  attn_output = torch.nn.functional.scaled_dot_product_attention(\n"
     ]
    },
    {
     "name": "stdout",
     "output_type": "stream",
     "text": [
      "{'loss': 1.0875, 'grad_norm': 0.916339635848999, 'learning_rate': 5.344735435595938e-06, 'epoch': 0.03}\n",
      "{'loss': 1.0015, 'grad_norm': 2.3318090438842773, 'learning_rate': 1.0668091929449493e-05, 'epoch': 0.05}\n",
      "{'loss': 0.9215, 'grad_norm': 18.72220802307129, 'learning_rate': 1.601282736504543e-05, 'epoch': 0.08}\n",
      "{'loss': 0.8502, 'grad_norm': 13.129029273986816, 'learning_rate': 1.9849096958174907e-05, 'epoch': 0.11}\n",
      "{'loss': 0.7918, 'grad_norm': 7.887839317321777, 'learning_rate': 1.925499049429658e-05, 'epoch': 0.13}\n",
      "{'loss': 0.761, 'grad_norm': 8.62987232208252, 'learning_rate': 1.866088403041825e-05, 'epoch': 0.16}\n",
      "{'loss': 0.7594, 'grad_norm': 4.7552900314331055, 'learning_rate': 1.8066777566539926e-05, 'epoch': 0.19}\n",
      "{'loss': 0.7384, 'grad_norm': 3.7340381145477295, 'learning_rate': 1.74726711026616e-05, 'epoch': 0.21}\n",
      "{'loss': 0.7176, 'grad_norm': 5.63754415512085, 'learning_rate': 1.6879752851711028e-05, 'epoch': 0.24}\n",
      "{'loss': 0.7018, 'grad_norm': 19.849838256835938, 'learning_rate': 1.62856463878327e-05, 'epoch': 0.27}\n",
      "{'loss': 0.71, 'grad_norm': 14.675751686096191, 'learning_rate': 1.5692728136882133e-05, 'epoch': 0.29}\n",
      "{'loss': 0.7026, 'grad_norm': 9.996706008911133, 'learning_rate': 1.509980988593156e-05, 'epoch': 0.32}\n",
      "{'loss': 0.704, 'grad_norm': 12.458510398864746, 'learning_rate': 1.4505703422053232e-05, 'epoch': 0.35}\n",
      "{'loss': 0.7021, 'grad_norm': 8.53032112121582, 'learning_rate': 1.3912785171102663e-05, 'epoch': 0.37}\n",
      "{'loss': 0.6949, 'grad_norm': 5.1444807052612305, 'learning_rate': 1.3318678707224335e-05, 'epoch': 0.4}\n",
      "{'loss': 0.6929, 'grad_norm': 14.30077838897705, 'learning_rate': 1.272457224334601e-05, 'epoch': 0.43}\n",
      "{'loss': 0.6784, 'grad_norm': 8.229625701904297, 'learning_rate': 1.2130465779467681e-05, 'epoch': 0.45}\n",
      "{'loss': 0.6784, 'grad_norm': 20.19260597229004, 'learning_rate': 1.1536359315589355e-05, 'epoch': 0.48}\n",
      "{'loss': 0.6993, 'grad_norm': 6.526025772094727, 'learning_rate': 1.0942252851711028e-05, 'epoch': 0.51}\n",
      "{'loss': 0.6861, 'grad_norm': 12.943930625915527, 'learning_rate': 1.0348146387832701e-05, 'epoch': 0.53}\n",
      "{'loss': 0.6496, 'grad_norm': 4.719374179840088, 'learning_rate': 9.754039923954374e-06, 'epoch': 0.56}\n",
      "{'loss': 0.6621, 'grad_norm': 6.422227382659912, 'learning_rate': 9.161121673003803e-06, 'epoch': 0.59}\n",
      "{'loss': 0.6686, 'grad_norm': 3.5075464248657227, 'learning_rate': 8.567015209125476e-06, 'epoch': 0.61}\n",
      "{'loss': 0.6499, 'grad_norm': 5.578507423400879, 'learning_rate': 7.97290874524715e-06, 'epoch': 0.64}\n",
      "{'loss': 0.6654, 'grad_norm': 6.429917335510254, 'learning_rate': 7.378802281368822e-06, 'epoch': 0.67}\n",
      "{'loss': 0.6581, 'grad_norm': 3.7679357528686523, 'learning_rate': 6.784695817490496e-06, 'epoch': 0.7}\n",
      "{'loss': 0.6703, 'grad_norm': 10.517439842224121, 'learning_rate': 6.190589353612167e-06, 'epoch': 0.72}\n",
      "{'loss': 0.6608, 'grad_norm': 5.308614730834961, 'learning_rate': 5.596482889733841e-06, 'epoch': 0.75}\n",
      "{'loss': 0.6464, 'grad_norm': 17.308048248291016, 'learning_rate': 5.0035646387832705e-06, 'epoch': 0.78}\n",
      "{'loss': 0.6337, 'grad_norm': 10.014923095703125, 'learning_rate': 4.409458174904943e-06, 'epoch': 0.8}\n",
      "{'loss': 0.6322, 'grad_norm': 5.875098705291748, 'learning_rate': 3.815351711026616e-06, 'epoch': 0.83}\n",
      "{'loss': 0.638, 'grad_norm': 6.041703701019287, 'learning_rate': 3.2212452471482893e-06, 'epoch': 0.86}\n",
      "{'loss': 0.6343, 'grad_norm': 5.914257526397705, 'learning_rate': 2.6271387832699625e-06, 'epoch': 0.88}\n",
      "{'loss': 0.6267, 'grad_norm': 6.899052619934082, 'learning_rate': 2.0330323193916353e-06, 'epoch': 0.91}\n",
      "{'loss': 0.6634, 'grad_norm': 8.545820236206055, 'learning_rate': 1.438925855513308e-06, 'epoch': 0.94}\n",
      "{'loss': 0.633, 'grad_norm': 5.271231174468994, 'learning_rate': 8.44819391634981e-07, 'epoch': 0.96}\n",
      "{'loss': 0.6519, 'grad_norm': 13.699342727661133, 'learning_rate': 2.5190114068441065e-07, 'epoch': 0.99}\n",
      "{'train_runtime': 3517.084, 'train_samples_per_second': 42.541, 'train_steps_per_second': 5.318, 'train_loss': 0.7107006310205602, 'epoch': 1.0}\n"
     ]
    },
    {
     "data": {
      "text/plain": [
       "TrainOutput(global_step=18703, training_loss=0.7107006310205602, metrics={'train_runtime': 3517.084, 'train_samples_per_second': 42.541, 'train_steps_per_second': 5.318, 'total_flos': 9841884835677552.0, 'train_loss': 0.7107006310205602, 'epoch': 1.0})"
      ]
     },
     "execution_count": 4,
     "metadata": {},
     "output_type": "execute_result"
    }
   ],
   "source": [
    "training_args = TrainingArguments(\n",
    "    output_dir=\"./results\",\n",
    "    num_train_epochs=1,                    #Make this 5 for optimal training\n",
    "    per_device_train_batch_size=8,\n",
    "    per_device_eval_batch_size=32,\n",
    "    weight_decay=0.01,\n",
    "    logging_dir=\"./logs\",\n",
    "    logging_steps=500,\n",
    "    learning_rate=2e-5,\n",
    "    warmup_ratio=0.1,\n",
    "    dataloader_num_workers=4,\n",
    "    fp16 = True,\n",
    "    save_steps=1000,\n",
    "    save_total_limit=1,\n",
    ")\n",
    "\n",
    "\n",
    "train_test_split = hf_dataset.train_test_split(test_size=0.3, seed=42)\n",
    "train_dataset = train_test_split[\"train\"]\n",
    "test_dataset = train_test_split[\"test\"]\n",
    "\n",
    "trainer = Trainer(\n",
    "    model=model,\n",
    "    args=training_args,\n",
    "    train_dataset=train_dataset,\n",
    "    eval_dataset=test_dataset,\n",
    "    tokenizer=tokenizer,\n",
    ")\n",
    "\n",
    "# Fine-tune the model\n",
    "trainer.train()"
   ]
  },
  {
   "cell_type": "code",
   "execution_count": 5,
   "metadata": {},
   "outputs": [
    {
     "data": {
      "application/vnd.jupyter.widget-view+json": {
       "model_id": "e85aacd769c84c61aef8e806d5ba4b93",
       "version_major": 2,
       "version_minor": 0
      },
      "text/plain": [
       "  0%|          | 0/2004 [00:00<?, ?it/s]"
      ]
     },
     "metadata": {},
     "output_type": "display_data"
    },
    {
     "name": "stdout",
     "output_type": "stream",
     "text": [
      "{'eval_loss': 0.6469289064407349, 'eval_runtime': 92.6172, 'eval_samples_per_second': 692.366, 'eval_steps_per_second': 21.637, 'epoch': 1.0}\n"
     ]
    },
    {
     "data": {
      "text/plain": [
       "('fine_tuned_muril\\\\tokenizer_config.json',\n",
       " 'fine_tuned_muril\\\\special_tokens_map.json',\n",
       " 'fine_tuned_muril\\\\vocab.txt',\n",
       " 'fine_tuned_muril\\\\added_tokens.json',\n",
       " 'fine_tuned_muril\\\\tokenizer.json')"
      ]
     },
     "execution_count": 5,
     "metadata": {},
     "output_type": "execute_result"
    }
   ],
   "source": [
    "results = trainer.evaluate()\n",
    "print(results)\n",
    "\n",
    "model.save_pretrained(\"fine_tuned_muril\")\n",
    "tokenizer.save_pretrained(\"fine_tuned_muril\")\n"
   ]
  }
 ],
 "metadata": {
  "kernelspec": {
   "display_name": "doodlegen",
   "language": "python",
   "name": "python3"
  },
  "language_info": {
   "codemirror_mode": {
    "name": "ipython",
    "version": 3
   },
   "file_extension": ".py",
   "mimetype": "text/x-python",
   "name": "python",
   "nbconvert_exporter": "python",
   "pygments_lexer": "ipython3",
   "version": "3.12.4"
  }
 },
 "nbformat": 4,
 "nbformat_minor": 2
}
